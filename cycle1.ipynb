{
 "cells": [
  {
   "cell_type": "code",
   "execution_count": 1,
   "id": "8637aabd-bd34-42ab-a66c-ce0e1ca83b8b",
   "metadata": {},
   "outputs": [
    {
     "name": "stdout",
     "output_type": "stream",
     "text": [
      "[20 30 40 50 60]\n",
      "[20 90 40 50 70]\n",
      "[False False False False False]\n",
      "[ True False  True  True False]\n",
      "[False  True False False  True]\n",
      "[ True  True  True  True  True]\n"
     ]
    }
   ],
   "source": [
    "import numpy as np\n",
    "arr152 = np.array([20,30,40,50,60])\n",
    "arr252 = np.array([20,90,40,50,70])\n",
    "print(arr152)\n",
    "print(arr252)\n",
    "print(np.greater(arr152,arr252))\n",
    "print(np.greater_equal(arr152,arr252))\n",
    "print(np.less(arr152,arr252))\n",
    "print(np.less_equal(arr152,arr252))"
   ]
  },
  {
   "cell_type": "code",
   "execution_count": 2,
   "id": "e7243cce-ab9f-4239-b74e-26ac89cc742d",
   "metadata": {},
   "outputs": [
    {
     "name": "stdout",
     "output_type": "stream",
     "text": [
      "3x3 matrix:\n",
      "[[1. 0. 0.]\n",
      " [0. 1. 0.]\n",
      " [0. 0. 1.]]\n"
     ]
    }
   ],
   "source": [
    "arr452=np.identity(3)\n",
    "print('3x3 matrix:')\n",
    "print(arr452)"
   ]
  }
 ],
 "metadata": {
  "kernelspec": {
   "display_name": "Python 3 (ipykernel)",
   "language": "python",
   "name": "python3"
  },
  "language_info": {
   "codemirror_mode": {
    "name": "ipython",
    "version": 3
   },
   "file_extension": ".py",
   "mimetype": "text/x-python",
   "name": "python",
   "nbconvert_exporter": "python",
   "pygments_lexer": "ipython3",
   "version": "3.9.12"
  }
 },
 "nbformat": 4,
 "nbformat_minor": 5
}
