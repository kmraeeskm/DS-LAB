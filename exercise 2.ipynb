{
 "cells": [
  {
   "cell_type": "code",
   "execution_count": 1,
   "id": "09dd91a6-9df1-4724-b8d7-379d041e98e9",
   "metadata": {},
   "outputs": [],
   "source": [
    "import numpy as np \n",
    "\n"
   ]
  },
  {
   "cell_type": "code",
   "execution_count": 2,
   "id": "b9b49297-db9a-4027-ae8f-e3f6531b154d",
   "metadata": {},
   "outputs": [],
   "source": [
    "def create_matrix(mc):\n",
    "    print(\"\\nARRAY \"+str(mc)+\" Elements : \")\n",
    "    array_1 = map(int, input().split())\n",
    "    array_1 = np.array(list(array_1))\n",
    "    #print(arr)\n",
    "    print(\"\\nARRAY \"+str(mc)+\" ,  ROW COLUMN : \")\n",
    "    row,column = map(int, input().split())\n",
    "    if(len(array_1)!= (row*column)):\n",
    "        print(\"\\nRow and Column size not match with total elements !! retry\")\n",
    "        return create_matrix(mc)\n",
    "    array_1 = array_1.reshape(row,column)\n",
    "    print(\"\\nARRAY \"+str(mc))\n",
    "    print(array_1)\n",
    "    return array_1"
   ]
  },
  {
   "cell_type": "code",
   "execution_count": 3,
   "id": "6dddb5c9-5f7d-4100-b78a-0099c1cd5897",
   "metadata": {},
   "outputs": [
    {
     "name": "stdout",
     "output_type": "stream",
     "text": [
      "\n",
      "ARRAY 1 Elements : \n"
     ]
    },
    {
     "name": "stdin",
     "output_type": "stream",
     "text": [
      " 1 2 3 4\n"
     ]
    },
    {
     "name": "stdout",
     "output_type": "stream",
     "text": [
      "\n",
      "ARRAY 1 ,  ROW COLUMN : \n"
     ]
    },
    {
     "name": "stdin",
     "output_type": "stream",
     "text": [
      " 2 2\n"
     ]
    },
    {
     "name": "stdout",
     "output_type": "stream",
     "text": [
      "\n",
      "ARRAY 1\n",
      "[[1 2]\n",
      " [3 4]]\n",
      "\n",
      "ARRAY 2 Elements : \n"
     ]
    },
    {
     "name": "stdin",
     "output_type": "stream",
     "text": [
      " 1 2 3 4\n"
     ]
    },
    {
     "name": "stdout",
     "output_type": "stream",
     "text": [
      "\n",
      "ARRAY 2 ,  ROW COLUMN : \n"
     ]
    },
    {
     "name": "stdin",
     "output_type": "stream",
     "text": [
      " 2 2\n"
     ]
    },
    {
     "name": "stdout",
     "output_type": "stream",
     "text": [
      "\n",
      "ARRAY 2\n",
      "[[1 2]\n",
      " [3 4]]\n",
      "\n",
      "Dot product\n",
      "[[ 7 10]\n",
      " [15 22]]\n"
     ]
    }
   ],
   "source": [
    "arr1 = create_matrix(1)\n",
    "arr2 = create_matrix(2)\n",
    "\n",
    "if(arr1.shape == arr2.shape):\n",
    "    print(\"\\nDot product\")\n",
    "    print(np.dot(arr1,arr2))\n",
    "else:\n",
    "    print(\"\\nDimensions not matching!\")\n"
   ]
  },
  {
   "cell_type": "code",
   "execution_count": 6,
   "id": "745fa107-4f9a-4f03-8861-99e2f453523a",
   "metadata": {},
   "outputs": [
    {
     "name": "stdout",
     "output_type": "stream",
     "text": [
      "\n",
      "ARRAY 1 Elements : \n"
     ]
    },
    {
     "name": "stdin",
     "output_type": "stream",
     "text": [
      " 1 2 3 4\n"
     ]
    },
    {
     "name": "stdout",
     "output_type": "stream",
     "text": [
      "\n",
      "ARRAY 1 ,  ROW COLUMN : \n"
     ]
    },
    {
     "name": "stdin",
     "output_type": "stream",
     "text": [
      " 2 2\n"
     ]
    },
    {
     "name": "stdout",
     "output_type": "stream",
     "text": [
      "\n",
      "ARRAY 1\n",
      "[[1 2]\n",
      " [3 4]]\n",
      "Transporse\n",
      "[[1 3]\n",
      " [2 4]]\n"
     ]
    }
   ],
   "source": [
    "arr1 = create_matrix(1)\n",
    "print(\"Transporse :\")\n",
    "print(arr1.transpose())"
   ]
  },
  {
   "cell_type": "code",
   "execution_count": 7,
   "id": "9bdeb1a3-8f37-4853-8089-ce725fd029df",
   "metadata": {},
   "outputs": [
    {
     "name": "stdout",
     "output_type": "stream",
     "text": [
      "\n",
      "ARRAY 1 Elements : \n"
     ]
    },
    {
     "name": "stdin",
     "output_type": "stream",
     "text": [
      " 1 2 3 4\n"
     ]
    },
    {
     "name": "stdout",
     "output_type": "stream",
     "text": [
      "\n",
      "ARRAY 1 ,  ROW COLUMN : \n"
     ]
    },
    {
     "name": "stdin",
     "output_type": "stream",
     "text": [
      " 2 2\n"
     ]
    },
    {
     "name": "stdout",
     "output_type": "stream",
     "text": [
      "\n",
      "ARRAY 1\n",
      "[[1 2]\n",
      " [3 4]]\n",
      "Trace\n",
      "5\n"
     ]
    }
   ],
   "source": [
    "arr1 = create_matrix(1)\n",
    "print(\"Trace :\")\n",
    "print(arr1.trace())"
   ]
  },
  {
   "cell_type": "code",
   "execution_count": 8,
   "id": "358d113a-d55b-4cd1-a006-5b9c007782f2",
   "metadata": {},
   "outputs": [
    {
     "name": "stdout",
     "output_type": "stream",
     "text": [
      "\n",
      "ARRAY 1 Elements : \n"
     ]
    },
    {
     "name": "stdin",
     "output_type": "stream",
     "text": [
      " 1 2 3 4\n"
     ]
    },
    {
     "name": "stdout",
     "output_type": "stream",
     "text": [
      "\n",
      "ARRAY 1 ,  ROW COLUMN : \n"
     ]
    },
    {
     "name": "stdin",
     "output_type": "stream",
     "text": [
      " 2 2\n"
     ]
    },
    {
     "name": "stdout",
     "output_type": "stream",
     "text": [
      "\n",
      "ARRAY 1\n",
      "[[1 2]\n",
      " [3 4]]\n",
      "Rank\n",
      "2\n"
     ]
    }
   ],
   "source": [
    "arr1 = create_matrix(1)\n",
    "print(\"Rank :\")\n",
    "print(np.linalg.matrix_rank(arr1))"
   ]
  },
  {
   "cell_type": "code",
   "execution_count": 9,
   "id": "a191f801-b3ff-4a53-af1a-66cc2035ca2a",
   "metadata": {},
   "outputs": [
    {
     "name": "stdout",
     "output_type": "stream",
     "text": [
      "\n",
      "ARRAY 1 Elements : \n"
     ]
    },
    {
     "name": "stdin",
     "output_type": "stream",
     "text": [
      " 1 2 3 4\n"
     ]
    },
    {
     "name": "stdout",
     "output_type": "stream",
     "text": [
      "\n",
      "ARRAY 1 ,  ROW COLUMN : \n"
     ]
    },
    {
     "name": "stdin",
     "output_type": "stream",
     "text": [
      " 2 2\n"
     ]
    },
    {
     "name": "stdout",
     "output_type": "stream",
     "text": [
      "\n",
      "ARRAY 1\n",
      "[[1 2]\n",
      " [3 4]]\n",
      "Determinent\n",
      "-2.0000000000000004\n"
     ]
    }
   ],
   "source": [
    "arr1 = create_matrix(1)\n",
    "print(\"Determinent :\")\n",
    "print(np.linalg.det(arr1))"
   ]
  },
  {
   "cell_type": "code",
   "execution_count": 10,
   "id": "8995e322-111a-4308-bc30-bd58de4bcc1d",
   "metadata": {},
   "outputs": [
    {
     "name": "stdout",
     "output_type": "stream",
     "text": [
      "\n",
      "ARRAY 1 Elements : \n"
     ]
    },
    {
     "name": "stdin",
     "output_type": "stream",
     "text": [
      " 1 2 3 4\n"
     ]
    },
    {
     "name": "stdout",
     "output_type": "stream",
     "text": [
      "\n",
      "ARRAY 1 ,  ROW COLUMN : \n"
     ]
    },
    {
     "name": "stdin",
     "output_type": "stream",
     "text": [
      " 2 2\n"
     ]
    },
    {
     "name": "stdout",
     "output_type": "stream",
     "text": [
      "\n",
      "ARRAY 1\n",
      "[[1 2]\n",
      " [3 4]]\n",
      "Inverse\n",
      "[[-2.   1. ]\n",
      " [ 1.5 -0.5]]\n"
     ]
    }
   ],
   "source": [
    "arr1 = create_matrix(1)\n",
    "print(\"Inverse :\")\n",
    "print(np.linalg.inv(arr1))"
   ]
  },
  {
   "cell_type": "code",
   "execution_count": 11,
   "id": "29ddbfab-d8e1-4ba1-89fe-c8b3c08f6571",
   "metadata": {},
   "outputs": [
    {
     "name": "stdout",
     "output_type": "stream",
     "text": [
      "\n",
      "ARRAY 1 Elements : \n"
     ]
    },
    {
     "name": "stdin",
     "output_type": "stream",
     "text": [
      " 1 2 3 4\n"
     ]
    },
    {
     "name": "stdout",
     "output_type": "stream",
     "text": [
      "\n",
      "ARRAY 1 ,  ROW COLUMN : \n"
     ]
    },
    {
     "name": "stdin",
     "output_type": "stream",
     "text": [
      " 2 2\n"
     ]
    },
    {
     "name": "stdout",
     "output_type": "stream",
     "text": [
      "\n",
      "ARRAY 1\n",
      "[[1 2]\n",
      " [3 4]]\n",
      "\n",
      "E-value : \n",
      "[-0.37228132  5.37228132]\n",
      "\n",
      "E-vector : \n",
      "[[-0.82456484 -0.41597356]\n",
      " [ 0.56576746 -0.90937671]]\n"
     ]
    }
   ],
   "source": [
    "arr1 = create_matrix(1)\n",
    "x,y = np.linalg.eig(arr1)\n",
    "\n",
    "print(\"\\nE-value : \")\n",
    "print(x)\n",
    "print(\"\\nE-vector : \")\n",
    "print(y)"
   ]
  },
  {
   "cell_type": "code",
   "execution_count": null,
   "id": "1d30d381-5e83-48ec-b30b-daa9553806d7",
   "metadata": {},
   "outputs": [],
   "source": []
  }
 ],
 "metadata": {
  "kernelspec": {
   "display_name": "Python 3 (ipykernel)",
   "language": "python",
   "name": "python3"
  },
  "language_info": {
   "codemirror_mode": {
    "name": "ipython",
    "version": 3
   },
   "file_extension": ".py",
   "mimetype": "text/x-python",
   "name": "python",
   "nbconvert_exporter": "python",
   "pygments_lexer": "ipython3",
   "version": "3.9.12"
  }
 },
 "nbformat": 4,
 "nbformat_minor": 5
}
